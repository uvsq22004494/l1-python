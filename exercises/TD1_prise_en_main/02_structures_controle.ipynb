{
 "cells": [
  {
   "cell_type": "markdown",
   "metadata": {
    "slideshow": {
     "slide_type": "slide"
    }
   },
   "source": [
    "# TD 2: Les structures de contrôle\n",
    "\n",
    "---\n",
    "\n",
    "## 0. Récupération des nouveaux documents\n",
    "\n",
    "\n",
    "Les sujets de TD ainsi que les supports de cours sont publiés en ligne au fur et à mesure sur l'espace github original [https://github.com/uvsq-info/l1-python](https://github.com/uvsq-info/l1-python). Au moment où vous avez fait le fork de cet espace sur votre espace personnel, il est probable que tous les contenus n'étaient pas présents. Pour compléter votre espace, deux solutions sont possibles:\n",
    "\n",
    "\n",
    "1. (solution à privilégier) aller sur la page du projet original [https://github.com/uvsq-info/l1-python](https://github.com/uvsq-info/l1-python), et cliquer sur le bouton vert `Code` en haut à droite. Choisir `download ZIP`, puis extraire l'ensemble des nouveaux fichiers vers votre projet personnel local. Vous pouvez ensuite sauvegarder ces ajouts dans votre espace github personnel en suivant la procédure habituelle.\n",
    "2. (solution qui présente des risques de conflits entre différentes versions d'un même document) en ligne de commande dans le terminal, en suivant la procédure de la section *Intégrer les mises à jour du projet original* du fichier [README.md](https://github.com/uvsq-info/l1-python/blob/master/README.md#int%C3%A9grer-les-mises-%C3%A0-jour-du-projet-original)\n"
   ]
  },
  {
   "cell_type": "markdown",
   "metadata": {
    "slideshow": {
     "slide_type": "slide"
    }
   },
   "source": [
    "---\n",
    "\n",
    "## 1. Premiers exercices avec les structures conditionnelles\n",
    "\n",
    "**Exercice 1:**\n",
    "\n",
    "1. Soit *num1 = 15* et *num2 = 5*. Ecrire un programme qui affiche *Factors!* si l'un des nombres est un facteur de l'autre (c'est-à-dire qu'il divise l'autre nombre). Si aucun des nombres n'est un facteur de l'autre, le programme n'affiche rien.\n",
    "2. Changer le code que vous avez écrit de telle sorte qu'il affiche toujours *Factors!* si un nombre est un facteur de l'autre, mais qui affiche aussi *Not factors!* si aucun des nombres n'est un facteur de l'autre."
   ]
  },
  {
   "cell_type": "code",
   "execution_count": 1,
   "metadata": {
    "slideshow": {
     "slide_type": "notes"
    }
   },
   "outputs": [
    {
     "output_type": "stream",
     "name": "stdout",
     "text": [
      "Factors!\n"
     ]
    }
   ],
   "source": [
    "num1 = 5\n",
    "num2 = 15\n",
    "if num1%num2==0 or num2%num1 ==0:\n",
    "    print(\"Factors!\")\n",
    "else:\n",
    "    print()"
   ]
  },
  {
   "cell_type": "markdown",
   "metadata": {
    "slideshow": {
     "slide_type": "slide"
    }
   },
   "source": [
    "**Exercice 2:**\n",
    "    \n",
    "Soit *state = \"Georgia\"*. Ecrire un programme qui permet d'afficher un message spécifique en fonction de la variable *state* :  \n",
    "* \"School isn't cancelled.\" si nous sommes à New Jersey,  \n",
    "* \"School is postponed.\" si nous sommes à North Carolina,\n",
    "* \"School is cancelled!\" si nous sommes à Georgia,  \n",
    "* \"School's status is unknown\" si nous ne sommes pas dans un des trois états précédemment mentionnés."
   ]
  },
  {
   "cell_type": "code",
   "execution_count": 5,
   "metadata": {
    "slideshow": {
     "slide_type": "notes"
    }
   },
   "outputs": [
    {
     "output_type": "stream",
     "name": "stdout",
     "text": [
      "School is cancelled!\n"
     ]
    }
   ],
   "source": [
    "state = \"Georgia\"\n",
    "if state == \"New Jersey\":\n",
    "    print(\"School isn't cancelled\")\n",
    "elif state == \"North Carolina\":\n",
    "    print(\"School is postponed\")\n",
    "elif state == \"Georgia\":\n",
    "    print(\"School is cancelled!\")\n",
    "else:\n",
    "    print(\"School's status is unknown\")"
   ]
  },
  {
   "cell_type": "markdown",
   "metadata": {
    "slideshow": {
     "slide_type": "slide"
    }
   },
   "source": [
    "**Exercice 3:**\n",
    "\n",
    "Ecrire un programme pour découvrir le signe du zodiaque chinois pour une année donnée. Le signe du zodiaque chinois est basé sur un cycle de 12 ans et chaque année de ce cycle est représentée par un animal :\n",
    "* 0: monkey\n",
    "* 1: rooster\n",
    "* 2: dog\n",
    "* 3: pig\n",
    "* 4: rat\n",
    "* 5: ox\n",
    "* 6: tiger\n",
    "* 7: rabbit\n",
    "* 8: dragon\n",
    "* 9: snake\n",
    "* 10: horse\n",
    "* 11: sheep\n",
    "\n",
    "La valeur de l'année % 12 détermine le signe du zodiaque. Par exemple, 1900 est l'année du *rat* puisque 1900 % 12 est 4."
   ]
  },
  {
   "cell_type": "code",
   "execution_count": 24,
   "metadata": {
    "slideshow": {
     "slide_type": "notes"
    }
   },
   "outputs": [
    {
     "output_type": "stream",
     "name": "stdout",
     "text": [
      "le signe du zodiaque chinois est sheep\n"
     ]
    }
   ],
   "source": [
    "a=int(input(\"choisisez une année\"))\n",
    "a %= 12\n",
    "if a == 0:\n",
    "    print(\"le signe du zodiaque chinois est monkey\")\n",
    "elif a == 1:\n",
    "    print(\"le signe du zodiaque chinois est rooster\")\n",
    "elif a == 2:\n",
    "    print(\"le signe du zodiaque chinois est dog\")\n",
    "elif a == 3:\n",
    "    print(\"le signe du zodiaque chinois est pig\")\n",
    "elif a == 4:\n",
    "    print(\"le signe du zodiaque chinois est rat\")\n",
    "elif a == 5:\n",
    "    print(\"le signe du zodiaque chinois est ox\")\n",
    "elif a == 6 :\n",
    "    print(\"le signe du zodiaque chinois est tiger\")\n",
    "elif a == 7:\n",
    "    print(\"le signe du zodiaque chinois est rabbit\")\n",
    "elif a == 8:\n",
    "    print(\"le signe du zodiaque chinois est dragon\")\n",
    "elif a == 9:\n",
    "    print(\"le signe du zodiaque chinois est snake\")\n",
    "elif a == 10:\n",
    "    print(\"le signe du zodiaque chinois est horse\")\n",
    "elif a == 11:\n",
    "    print(\"le signe du zodiaque chinois est sheep\")\n",
    "else:\n",
    "    print(\"veuillez séléctionner une année valide\")\n"
   ]
  },
  {
   "cell_type": "markdown",
   "metadata": {
    "slideshow": {
     "slide_type": "slide"
    }
   },
   "source": [
    "**Exercice 4:**\n",
    "\n",
    "Soit *temperature = -3.7* et *celsius = True*. *celsius* est une variable booléenne qui indique si la température est en Celsius; si c'est *False*, alors la température donnée est en Fahrenheit. Ecrire un premier programme en utilisant *if-else* seulement qui permet d'afficher *Freezing* si les valeurs données représentent une température très basse, et *Not freezing* si ce n'est pas le cas. En Celsius, on considère qu'il fait très froid lorsque la température est inférieure ou égale à 0 degré. En Fahrenheit, on considère qu'il fait très froid lorsque la température est inférieure ou égale à 32 degrés. Proposer une seconde solution en utilisant *if-elif-else* à ce même problème."
   ]
  },
  {
   "cell_type": "code",
   "execution_count": 48,
   "metadata": {
    "slideshow": {
     "slide_type": "notes"
    }
   },
   "outputs": [
    {
     "output_type": "stream",
     "name": "stdout",
     "text": [
      "Freezing\n"
     ]
    }
   ],
   "source": [
    "temperature = -3.7\n",
    "celsius = True\n",
    "if celsius == True and temperature <= 0 or celsius == False and temperature <= 32:\n",
    "    print (\"Freezing\")\n",
    "else :\n",
    "    print(\"Not freezing\")\n"
   ]
  },
  {
   "cell_type": "markdown",
   "metadata": {
    "slideshow": {
     "slide_type": "slide"
    }
   },
   "source": [
    "**Exercice 5:**\n",
    "    \n",
    "Ecrire un programme qui permet de déterminer si une année est bissextile ou non en utilisant une seule instruction *if-else*. Une année *A* est bissextile si *A* est divisible par 4. Elle ne l’est cependant pas si *A* est un multiple\n",
    "de 100, à moins que *A* ne soit multiple de 400.    "
   ]
  },
  {
   "cell_type": "code",
   "execution_count": 54,
   "metadata": {
    "slideshow": {
     "slide_type": "notes"
    }
   },
   "outputs": [
    {
     "output_type": "stream",
     "name": "stdout",
     "text": [
      "Année bisextile\n"
     ]
    }
   ],
   "source": [
    "a = int(input(\"année\"))\n",
    "if a%4 == 0 and (a%100!= 0 or a%400==0) :\n",
    "    print(\"Année bisextile\")\n",
    "else :\n",
    "    print(\"Année non bisextile\")"
   ]
  },
  {
   "source": [
    "---\n",
    "\n",
    "## 2. Premiers exercices avec les structures itératives\n",
    "\n",
    "**Exercice 6:**\n",
    "\n",
    "1. Ecrire un programme qui permet d'afficher tous les nombres entre 1 et 10 (bornes incluses).\n",
    "2. Ecrire un programme se limitant à la boucle *for* qui permet d'afficher tous les nombres pairs entre 1 et 20 (bornes incluses). Proposer une deuxième solution en incluant une structure conditionnelle."
   ],
   "cell_type": "markdown",
   "metadata": {}
  },
  {
   "cell_type": "code",
   "execution_count": 2,
   "metadata": {},
   "outputs": [
    {
     "output_type": "stream",
     "name": "stdout",
     "text": [
      "1\n2\n3\n4\n5\n6\n7\n8\n9\n10\n"
     ]
    }
   ],
   "source": [
    "for a in range(1,11):\n",
    "    print(a)"
   ]
  },
  {
   "source": [
    "**Exercice 7:**\n",
    "    \n",
    "1. Ecrire un programme qui demande à l'utilisateur de saisir *n* nombres, *n* étant choisi par l'utilisateur, puis d'afficher la moyenne de ces nombres.\n",
    "\n",
    "2. Même question, mais l'utilisateur ne choisit pas à l'avance le nombre *n*, la procédure s'arrête quand il saisit le nombre -1.\n"
   ],
   "cell_type": "markdown",
   "metadata": {}
  },
  {
   "cell_type": "code",
   "execution_count": 42,
   "metadata": {},
   "outputs": [
    {
     "output_type": "stream",
     "name": "stdout",
     "text": [
      "33.0\n"
     ]
    }
   ],
   "source": [
    "a = int(input(\"combien de nombres voulez vous choisir ?\"))\n",
    "b = 0\n",
    "for c in range(1, a+1) :\n",
    "    nbre = int(input(\"choisissez un nombre !\"))\n",
    "    b = b + nbre\n",
    "print(b/a)\n",
    "\n",
    "\n",
    "\n",
    "\n"
   ]
  },
  {
   "cell_type": "code",
   "execution_count": 105,
   "metadata": {},
   "outputs": [
    {
     "output_type": "stream",
     "name": "stdout",
     "text": [
      "45.0\n"
     ]
    }
   ],
   "source": [
    "nbre = 0\n",
    "sme = 0\n",
    "tot = 0\n",
    "\n",
    "while nbre != -1 :\n",
    "    nbre = int(input(\"entrez un nombre !!\"))\n",
    "    sme = nbre + sme\n",
    "    tot = tot + 1 \n",
    "tot = tot - 1\n",
    "sme = sme + 1 \n",
    "print(sme/tot)\n",
    "\n",
    "\n"
   ]
  },
  {
   "source": [
    "**Exercice 8:**\n",
    "\n",
    "Ecrire un programme qui permet de calculer le factoriel d'un nombre positif donné par l'utlisateur selon la formule suivante : \n",
    "n! = 1 x 2 x ... x n.  \n",
    "\n",
    "1. Une première version en utilisant la boucle *for*\n",
    "2. Une seconde version en utilisant la boucle *while*"
   ],
   "cell_type": "markdown",
   "metadata": {}
  },
  {
   "cell_type": "code",
   "execution_count": 103,
   "metadata": {},
   "outputs": [
    {
     "output_type": "stream",
     "name": "stdout",
     "text": [
      "720\n"
     ]
    }
   ],
   "source": [
    "nbre = int(input(\"entrez un nombre, je vous donnerai sa factorielle !\"))\n",
    "fact = 1\n",
    "\n",
    "for i in range(1, nbre+1):\n",
    "    fact = fact * i\n",
    "\n",
    "\n",
    "print(fact)"
   ]
  },
  {
   "cell_type": "code",
   "execution_count": 132,
   "metadata": {
    "tags": []
   },
   "outputs": [
    {
     "output_type": "stream",
     "name": "stdout",
     "text": [
      "720\n"
     ]
    }
   ],
   "source": [
    "nbre = int(input(\"entrez un nombre, je vous donnerai sa factorielle !\"))\n",
    "fact = 1\n",
    "i = 1\n",
    "\n",
    "while i < nbre :\n",
    "    i = i + 1 \n",
    "    fact = fact * i\n",
    "    \n",
    "print(fact)"
   ]
  },
  {
   "cell_type": "markdown",
   "metadata": {
    "slideshow": {
     "slide_type": "slide"
    }
   },
   "source": [
    "---\n",
    "\n",
    "## 3. Pour aller plus loin\n",
    "\n",
    "**Excercice 9:**\n",
    "\n",
    "Ecrire un programme qui permet de connaître le jour de naissance de l'utilisateur en posant cinq questions.\n",
    "Chaque question demande si le jour est dans l'un des cinq ensembles suivants :\n",
    "\n",
    "* Set 1: [1 3 5 7 9 11 13 15 17 19 21 23 25 27 29 31]\n",
    "* Set 2: [2 3 6 7 10 11 14 15 18 19 22 23 26 27 30 31]\n",
    "* Set 3: [4 5 6 7 12 13 14 15 20 21 22 23 28 29 30 31]\n",
    "* Set 4: [8 9 10 11 12 13 14 15 24 25 26 27 28 29 30 31]\n",
    "* Set 5: [16 17 18 19 20 21 22 23 24 25 26 27 28 29 30 31]\n",
    "    \n",
    "\n",
    "Le jour de naissance est la somme des premiers nombres dans les ensembles où le jour apparaît. Par exemple,\n",
    "si le jour de naissance est 19, il apparaît dans Set 1, Set 2 et Set 5. Les premiers chiffres de ces trois ensembles sont 1, 2 et 16. Leur somme est 19."
   ]
  },
  {
   "cell_type": "code",
   "execution_count": 139,
   "metadata": {
    "slideshow": {
     "slide_type": "notes"
    }
   },
   "outputs": [
    {
     "output_type": "stream",
     "name": "stdout",
     "text": [
      "Je parie ma maison que voous avez 13 ans !!\n"
     ]
    }
   ],
   "source": [
    "a = input(\"1 3 5 7 9 11 13 15 17 19 21 23 25 27 29 31, ton jour de naissance est-il dedans, réponds par oui ou non\")\n",
    "b = input(\"2 3 6 7 10 11 14 15 18 19 22 23 26 27 30 31, ton jour de naissance est-il dedans, réponds par oui ou non\")\n",
    "c = input(\"4 5 6 7 12 13 14 15 20 21 22 23 28 29 30 31, ton jour de naissance est-il dedans, réponds par oui ou non\")\n",
    "d = input(\"8 9 10 11 12 13 14 15 24 25 26 27 28 29 30 31, ton jour de naissance est-il dedans, réponds par oui ou non\")\n",
    "e = input(\"16 17 18 19 20 21 22 23 24 25 26 27 28 29 30 31, ton jour de naissance est-il dedans, réponds par oui ou non\")\n",
    "\n",
    "age = 0\n",
    "\n",
    "if a == \"oui\" :\n",
    "    age = age + 1\n",
    "\n",
    "if b == \"oui\":\n",
    "    age = age + 2\n",
    "\n",
    "if c == \"oui\": \n",
    "    age = age + 4\n",
    "\n",
    "if d == \"oui\":\n",
    "    age = age + 8\n",
    "\n",
    "if e == \"oui\":\n",
    "    age = age + 16\n",
    "\n",
    "print(\"Je parie ma maison que voous avez\",age,\"ans !!\")\n"
   ]
  },
  {
   "cell_type": "markdown",
   "metadata": {
    "slideshow": {
     "slide_type": "slide"
    }
   },
   "source": [
    "**Excercice 10:**\n",
    "\n",
    "Ecrire un programme qui permet de génèrer de manière aléatoire un nombre à deux chiffres, invite l'utilisateur à saisir un nombre à deux chiffres et détermine si l'utilisateur gagne selon les règles suivantes :\n",
    "* Si l'entrée de l'utilisateur correspond à la loterie (le nombre généré aléatoirement) dans l'ordre exact, la récompense est de 10 000€.\n",
    "* Sinon, si les deux chiffres entrés par l'utilisateur correspondent aux deux chiffres du numéro de loterie, la récompense est de 3 000€.\n",
    "* Sinon, si un chiffre dans l'entrée de l'utilisateur correspond à un chiffre dans le numéro de loterie, la récompense est de 1 000€.\n",
    "\n",
    "**Astuce :** Utiliser la fonction **random.randint(0, 99)** pour génèrer de manière aléatoire un nombre à deux chiffres. Cette fonction doit être accompagné par **import random** comme première instruction dans le code."
   ]
  },
  {
   "cell_type": "code",
   "execution_count": 101,
   "metadata": {
    "slideshow": {
     "slide_type": "notes"
    }
   },
   "outputs": [
    {
     "output_type": "stream",
     "name": "stdout",
     "text": [
      "vous avez gagné 1 000e !\n \n \nvous avez choisi 87\net la loterie était 75\n"
     ]
    }
   ],
   "source": [
    "chx = int(input(\"choisissez un nombre au hasard !\"))\n",
    "import random\n",
    "rd = random.randint(0, 99)\n",
    "\n",
    "diz1 = rd//10\n",
    "uni1 = rd%10\n",
    "\n",
    "diz2 = chx//10\n",
    "uni2 = chx%10\n",
    "\n",
    "\n",
    "if chx == a:\n",
    "    print(\"vous avez gagné 10 000e !\")\n",
    "    print(\" \")\n",
    "elif diz2 == uni1 and diz1 == uni2 :\n",
    "    print(\"vous avez gagné 3 000e !\")\n",
    "    print(\" \")\n",
    "elif diz2 == diz1 or diz2 == uni1 :\n",
    "    print(\"vous avez gagné 1 000e !\")\n",
    "    print(\" \")\n",
    "elif uni2 == diz1 or uni2 == uni1 :\n",
    "    print(\"vous avez gagné 1 000e !\")\n",
    "    print(\" \")\n",
    "\n",
    "print(\" \")\n",
    "print(\"vous avez choisi\",chx)\n",
    "print(\"et la loterie était\",rd)"
   ]
  },
  {
   "cell_type": "code",
   "execution_count": 63,
   "metadata": {},
   "outputs": [
    {
     "output_type": "stream",
     "name": "stdout",
     "text": [
      "5\n"
     ]
    }
   ],
   "source": [
    "a = 15\n",
    "print(a%10)"
   ]
  },
  {
   "source": [
    "**Exercice 11:**\n",
    "    \n",
    "Ecrire un programme qui permet de calculer la somme des chiffres d'un entier *n* donné. Le nombre *n* doit être compris entre 10 et 20 (bornes incluses)."
   ],
   "cell_type": "markdown",
   "metadata": {}
  },
  {
   "cell_type": "code",
   "execution_count": 107,
   "metadata": {},
   "outputs": [
    {
     "output_type": "stream",
     "name": "stdout",
     "text": [
      "6\n"
     ]
    }
   ],
   "source": [
    "nbre = int(input(\"entrez un entier compris entre 10 et 20 !\"))\n",
    "\n",
    "diz1 = nbre//10\n",
    "uni1 = nbre%10\n",
    "\n",
    "sme = diz1 + uni1\n",
    "\n",
    "print(sme)\n"
   ]
  },
  {
   "source": [
    "**Exercice 12:**\n",
    "\n",
    "1. Ecrire un programme qui permet de générer aléatoirement deux nombres entre 0 et 9, de calculer leurs différences (en valeur absolue), puis d'inviter l'utilisateur à répondre à la question suivante *que vaut abs(number1 - number2)?*. Le programme doit permettre à l'utilisateur de répondre plusieurs fois jusqu'à la saisie de la bonne réponse.\n",
    "2. Modifier le programme précédent de telle sorte qu'il génère cinq occurences à la suite invitant à répondre à la question précédente. A la fin, le programme affiche le nombre moyen de tentatives qu'il a fallu à l'utilisateur pour répondre à une question."
   ],
   "cell_type": "markdown",
   "metadata": {}
  },
  {
   "cell_type": "code",
   "execution_count": 1,
   "metadata": {
    "tags": []
   },
   "outputs": [
    {
     "output_type": "stream",
     "name": "stdout",
     "text": [
      "5\n"
     ]
    }
   ],
   "source": [
    "import random\n",
    "\n",
    "nb1 = random.randint(0,9)\n",
    "nb2 = random.randint(0,9)\n",
    "\n",
    "dif = nb1 - nb2\n",
    "if dif >= 0 :\n",
    "    print(dif)\n",
    "else :\n",
    "    print(-dif)"
   ]
  },
  {
   "cell_type": "code",
   "execution_count": 121,
   "metadata": {
    "tags": []
   },
   "outputs": [
    {
     "output_type": "execute_result",
     "data": {
      "text/plain": [
       "0"
      ]
     },
     "metadata": {},
     "execution_count": 121
    }
   ],
   "source": []
  },
  {
   "source": [
    "**Exercice 13:**\n",
    "\n",
    "Ecrire un programme qui permet de calculer le nombre de mots dans une phrase saisie par l'utilisateur."
   ],
   "cell_type": "markdown",
   "metadata": {}
  },
  {
   "cell_type": "code",
   "execution_count": 13,
   "metadata": {
    "tags": []
   },
   "outputs": [
    {
     "output_type": "execute_result",
     "data": {
      "text/plain": [
       "2"
      ]
     },
     "metadata": {},
     "execution_count": 13
    }
   ],
   "source": [
    "phrase = str(input(\"entrez une phrase\"))\n",
    "def compte_mots(phrase):\n",
    "     return len(phrase.split())\n",
    "\n",
    "compte_mots(phrase)"
   ]
  },
  {
   "cell_type": "markdown",
   "metadata": {
    "slideshow": {
     "slide_type": "slide"
    }
   },
   "source": [
    "---\n",
    "\n",
    "## 4. Pour s'entraîner\n",
    "\n",
    "**Exercice 14:**\n",
    "    \n",
    "Soit la variable my_input = \"zoophysiology\". Ecrire un script qui permet d'afficher l'un des messages suivants en fonction du nombre maximum de *o* consécutifs dans la variable *my_input*. Par exemple, le script doit afficher \"I like studying birds! I want to become an ornithologist!\" parce qu'il y a deux *o* consécutifs, même s'il y a aussi des *o* individual.\n",
    "Ignorer les *o* majuscules - recherchez que les *o* minuscules.\n",
    "\n",
    "* Si \"o\" apparaît trois fois ou plus de suite, afficher le message \"I like going to the zoo!\"  \n",
    "* Si \"o\" apparaît deux fois, afficher le message \"I like studying birds! I want to become an ornithologist!\"  \n",
    "* Si \"o\" apparaît une seule fois, afficher le message \"I like studying fish! I want to become an ichthyologist!\"  \n",
    "* Si \"o\" n'apparaît pas dans la variable *my_input*, afficher le message \"I miss going to the zoo!\"  \n",
    "\n",
    "**Astuce :** Utiliser l'opérateur **in** qui renvoie **True** si la première chaîne se trouve dans la deuxième chaîne. "
   ]
  },
  {
   "cell_type": "code",
   "execution_count": null,
   "metadata": {
    "slideshow": {
     "slide_type": "notes"
    }
   },
   "outputs": [],
   "source": [
    "0000"
   ]
  },
  {
   "cell_type": "markdown",
   "metadata": {
    "slideshow": {
     "slide_type": "slide"
    }
   },
   "source": [
    "**Exercice 15:**\n",
    "    \n",
    "Créer quatre variables nommées *team_1* et *team_2*, représentant deux noms d'équipes, et *team_1_score* et *team_2_score*, représentant les scores de ces deux équipes. \n",
    "Une équipe gagne si son score est supérieur à l'autre score de l'autre équipe.\n",
    " \n",
    "Ecrire un premier script qui permet d'afficher les messages suivants selon les valeurs entrées, ceci en utilisant seulement les quatres variables créées :\n",
    "* Si une équipe bat l'autre, affichez: \"[winner] beat [loser] by [margin]\"\n",
    "* Si aucune des équipes n'a gagné, affichez: \"[team_1] played [team_2] and it was a tie\"\n",
    "\n",
    "Ecrire un deuxième script qui permet d'afficher les mêmes messages mais en ajoutant trois variables de plus :\n",
    "* La variable *winner* pour définir l'équipe gagnante  \n",
    "* La variable *loser* pour définier l'équipe perdante  \n",
    "* La variable *margin* pour définir la différence entre les deux scores \n"
   ]
  },
  {
   "cell_type": "code",
   "execution_count": 36,
   "metadata": {
    "slideshow": {
     "slide_type": "notes"
    }
   },
   "outputs": [
    {
     "output_type": "stream",
     "name": "stdout",
     "text": [
      "Lakers beat Beatles by 10\n"
     ]
    }
   ],
   "source": [
    "team_1 = input(\"nom de l'équipe 1\")\n",
    "team_1_score = int(input(\"score 1e équipe ?\"))\n",
    "\n",
    "team_2 = input(\"nom de l'équipe 2\")\n",
    "team_2_score = int(input(\"score 2e équipe ?\"))\n",
    "\n",
    "if team_1_score > team_2_score :\n",
    "    print(team_1, \"beat\", team_2, \"by\", team_1_score-team_2_score )\n",
    "elif team_1_score < team_2_score :\n",
    "    print(team_2, \"beat\", team_1, \"by\", team_2_score-team_1_score)\n",
    "else :\n",
    "    print(team_1, \"played\", team_2, \"and it was a tie\")\n"
   ]
  },
  {
   "cell_type": "code",
   "execution_count": 41,
   "metadata": {
    "slideshow": {
     "slide_type": "notes"
    }
   },
   "outputs": [
    {
     "output_type": "stream",
     "name": "stdout",
     "text": [
      "lakers beat beatles by 58\n"
     ]
    }
   ],
   "source": [
    "team_1 = input(\"nom de l'équipe 1\")\n",
    "team_1_score = int(input(\"score 1e équipe ?\"))\n",
    "\n",
    "team_2 = input(\"nom de l'équipe 2\")\n",
    "team_2_score = int(input(\"score 2e équipe ?\"))\n",
    "\n",
    "if team_1_score > team_2_score :\n",
    "    winner = team_1\n",
    "    loser = team_2\n",
    "    margin = team_1_score - team_2_score\n",
    "    print(winner, \"beat\", loser, \"by\", margin )\n",
    "elif team_1_score < team_2_score :\n",
    "    winner = team_2\n",
    "    loser = team_1\n",
    "    margin = team_2_score - team_1_score\n",
    "    print(winner, \"beat\", loser, \"by\", margin)\n",
    "else :\n",
    "    print(team_1, \"played\", team_2, \"and it was a tie\")\n"
   ]
  },
  {
   "cell_type": "markdown",
   "metadata": {
    "slideshow": {
     "slide_type": "slide"
    }
   },
   "source": [
    "**Exercice 16:**\n",
    "    \n",
    "L'Indice de Masse Corporelle (IMC) permet d'estimer le poids idéal en fonction de la taille. Son calcul correspond au poids en kilogrammes divisé par le carré de la taille en mètre (IMC = poids en kg/taille² en m). Le chiffre obtenu permet d'estimer la corpulence et éventuellement le surpoids ou l'obésité chez l'adulte, homme ou femme.\n",
    "L'interprétation de l'IMC pour les personnes de 16 ans et plus est la suivante :\n",
    "* Moins de 18.5: Underweight\n",
    "* Entre 18.5 et 24.9: Normal\n",
    "* Entre 25.0 et 29.9: Overweight\n",
    "* Plus que 30.0: Obese\n",
    "\n",
    "Ecrire un programme qui permet de saisir un poids en *pounds* et une taille en *inches*, de calculer et d'afficher l'IMC à deux valeurs après la virgule, et d'afficher l'interprétation la plus adéquate. Notez qu'un *pound* équivaut à 0,45359237 kilogrammes et qu'un *inch* équivaut à 0,0254 mètre.  \n",
    "\n",
    "**Astuce :** Pour afficher deux valeurs après la virgule, utilisez la fonction **format(nom_variable, \".2f\")**. Exemple : **print('La moyenne est :', format(moyenne, \".2f\"))**"
   ]
  },
  {
   "cell_type": "code",
   "execution_count": 66,
   "metadata": {
    "slideshow": {
     "slide_type": "notes"
    }
   },
   "outputs": [
    {
     "output_type": "stream",
     "name": "stdout",
     "text": [
      "Votre imc est de 18.55\nVous êtes considéré comme : Normal\n"
     ]
    }
   ],
   "source": [
    "high = float(input(\"quel est votre taille en inches ?\"))\n",
    "weight = float(input(\"quel est votre poids en pounds ?\"))\n",
    "\n",
    "weight = weight * 0.45359237\n",
    "high = high * 0.0254\n",
    "\n",
    "imc = weight/(high**2)\n",
    "\n",
    "print(\"Votre imc est de\", format(imc, \".2f\"))\n",
    "\n",
    "if imc < 18.5 :\n",
    "    print(\"Vous êtes considéré comme : Underweright\")\n",
    "elif 18.5 < imc < 24.9 :\n",
    "    print(\"Vous êtes considéré comme : Normal\")\n",
    "elif 24.9 < imc < 29.9 :\n",
    "    print(\"Vous êtes considéré comme : Overweight\")\n",
    "elif imc > 30 :\n",
    "    print(\"Vous êtes considéré comme : Obese\")\n"
   ]
  },
  {
   "source": [
    "**Exercice 17:**\n",
    "\n",
    "Ecrire un programme qui affiche un triangle d'étoiles de taille donnée, par exemple si on entre 6, le programme affiche:\n",
    "```\n",
    "*\n",
    "**\n",
    "***\n",
    "****\n",
    "*****\n",
    "******\n",
    "```"
   ],
   "cell_type": "markdown",
   "metadata": {}
  },
  {
   "cell_type": "code",
   "execution_count": 46,
   "metadata": {
    "tags": []
   },
   "outputs": [
    {
     "output_type": "stream",
     "name": "stdout",
     "text": [
      "*\n**\n***\n****\n*****\n******\n*******\n********\n*********\n**********\n***********\n************\n*************\n**************\n***************\n****************\n*****************\n******************\n*******************\n********************\n*********************\n**********************\n***********************\n************************\n*************************\n"
     ]
    }
   ],
   "source": [
    "a = int(input(\"entrez le nombre d'étoiles souhaité !\"))\n",
    "b = 1\n",
    "for i in range(1, a+1) : \n",
    "    print(\"*\"*b) \n",
    "    b = b+1"
   ]
  },
  {
   "source": [
    "**Exercice 18:**\n",
    "\n",
    "Même exercice mais cette fois la sortie est\n",
    "```\n",
    "     *\n",
    "    **         \n",
    "   ***\n",
    "  ****\n",
    " *****\n",
    "******\n",
    "```"
   ],
   "cell_type": "markdown",
   "metadata": {}
  },
  {
   "cell_type": "code",
   "execution_count": 42,
   "metadata": {
    "tags": []
   },
   "outputs": [
    {
     "output_type": "stream",
     "name": "stdout",
     "text": [
      "      *\n     **\n    ***\n   ****\n  *****\n ******\n"
     ]
    }
   ],
   "source": [
    "a = int(input(\"entrez le nombre d'étoiles souhaité !\"))\n",
    "b = 1\n",
    "c = a\n",
    "for i in range(1, a+1) : \n",
    "    print(\" \"*(c-1), \"*\"*b)\n",
    "    b = b+1\n",
    "    c = c-1"
   ]
  },
  {
   "source": [
    "**Exercice 19:**\n",
    "\n",
    "Ecrire un programme qui calcule, étant donné un entier *n* rentré par l'utilisateur, la plus grande puissance de *n* inférieure à un million."
   ],
   "cell_type": "markdown",
   "metadata": {}
  },
  {
   "cell_type": "code",
   "execution_count": 140,
   "metadata": {
    "tags": []
   },
   "outputs": [
    {
     "output_type": "stream",
     "name": "stdout",
     "text": [
      "4\n"
     ]
    }
   ],
   "source": [
    "ent = int(input(\"entrez un entier n !\"))\n",
    "a = 1\n",
    "b = 0\n",
    "\n",
    "while b < 1000000:\n",
    "    b = ent**a\n",
    "    a = a+1\n",
    "\n",
    "a= a-2\n",
    "\n",
    "print(a)"
   ]
  },
  {
   "cell_type": "code",
   "execution_count": 144,
   "metadata": {},
   "outputs": [
    {
     "output_type": "stream",
     "name": "stdout",
     "text": [
      "tutututu\n"
     ]
    }
   ],
   "source": [
    "a = \"tutu\"\n",
    "b=7\n",
    "b=a\n",
    "print(a+b)"
   ]
  },
  {
   "cell_type": "code",
   "execution_count": null,
   "metadata": {},
   "outputs": [],
   "source": []
  }
 ],
 "metadata": {
  "celltoolbar": "Diaporama",
  "kernelspec": {
   "display_name": "Python 3",
   "language": "python",
   "name": "python3"
  },
  "language_info": {
   "codemirror_mode": {
    "name": "ipython",
    "version": 3
   },
   "file_extension": ".py",
   "mimetype": "text/x-python",
   "name": "python",
   "nbconvert_exporter": "python",
   "pygments_lexer": "ipython3",
   "version": "3.8.5-final"
  }
 },
 "nbformat": 4,
 "nbformat_minor": 4
}